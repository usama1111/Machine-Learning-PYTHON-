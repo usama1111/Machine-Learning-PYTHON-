{
 "cells": [
  {
   "cell_type": "code",
   "execution_count": 56,
   "metadata": {},
   "outputs": [
    {
     "name": "stdout",
     "output_type": "stream",
     "text": [
      "Enter a statement to predictmy name is barrack obama\n",
      "you enteredmy name is barrack obama\n",
      "The given statement is False\n",
      "The probablity score is  0.15199960961765183\n"
     ]
    }
   ],
   "source": [
    "import pickle \n",
    "# Pickling is the process of serialization and alternately known as serialization.“Pickling” is the process whereby a Python object hierarchy is converted into a byte stream, and “unpickling” is the inverse operation\n",
    "\n",
    "var = input(\"Enter a statement to predict\")\n",
    "print(\"you entered\"+str(var))\n",
    "\n",
    "\n",
    "\n",
    "def fakenews(var):\n",
    "    load_model = pickle.load(open('Desktop\\model.sav','rb'))\n",
    "    #model is loaded \n",
    "    prediction = load_model.predict([var])\n",
    "    # prediction of model is going on by using predict() method.\n",
    "    prob = load_model.predict_proba([var])\n",
    "    # probablity of the sentence is coming by using the method proba()\n",
    "    return(print('The given statement is',prediction[0]),\n",
    "    print(\"The probablity score is \",prob[0][1]))\n",
    "    \n",
    "if __name__=='__main__':\n",
    "    fakenews(var)\n",
    "    \n",
    "    \n",
    "    \n",
    "    "
   ]
  },
  {
   "cell_type": "code",
   "execution_count": null,
   "metadata": {},
   "outputs": [],
   "source": []
  },
  {
   "cell_type": "code",
   "execution_count": null,
   "metadata": {},
   "outputs": [],
   "source": []
  }
 ],
 "metadata": {
  "kernelspec": {
   "display_name": "Python 3",
   "language": "python",
   "name": "python3"
  },
  "language_info": {
   "codemirror_mode": {
    "name": "ipython",
    "version": 3
   },
   "file_extension": ".py",
   "mimetype": "text/x-python",
   "name": "python",
   "nbconvert_exporter": "python",
   "pygments_lexer": "ipython3",
   "version": "3.7.4"
  }
 },
 "nbformat": 4,
 "nbformat_minor": 2
}
