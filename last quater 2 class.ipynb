{
 "cells": [
  {
   "cell_type": "code",
   "execution_count": 162,
   "metadata": {},
   "outputs": [],
   "source": [
    "import numpy as np\n",
    "import pandas as pd\n",
    "import tensorflow as tf"
   ]
  },
  {
   "cell_type": "code",
   "execution_count": 163,
   "metadata": {},
   "outputs": [],
   "source": [
    "data=pd.read_csv(r'C:\\Users\\usama bantwa\\Desktop\\sonar.csv', header = None) #header none ka matlab ke column ke liye ek jaga ajaigi\n"
   ]
  },
  {
   "cell_type": "code",
   "execution_count": 164,
   "metadata": {},
   "outputs": [],
   "source": [
    "\n",
    "data = data.sample(frac=1)"
   ]
  },
  {
   "cell_type": "code",
   "execution_count": 165,
   "metadata": {},
   "outputs": [],
   "source": [
    "from tensorflow.keras.utils import to_categorical #to categorical one hot coding krdega\n",
    "from sklearn import preprocessing as pp\n",
    "enc = pp.LabelEncoder()\n",
    "data.iloc[:,60] = enc.fit_transform(data.iloc[:,60])\n",
    "df_train=data.iloc[:144,:60]\n",
    "df_train_label =data.iloc[:144, 60]"
   ]
  },
  {
   "cell_type": "code",
   "execution_count": 166,
   "metadata": {},
   "outputs": [],
   "source": [
    "train_data = df_train.to_numpy()\n",
    "\n",
    "train_labels = df_train_label.to_numpy()\n",
    "\n",
    "one_hot_trrain_labels = to_categorical(train_labels)"
   ]
  },
  {
   "cell_type": "code",
   "execution_count": 167,
   "metadata": {},
   "outputs": [],
   "source": [
    "from sklearn.model_selection import train_test_split\n",
    "\n",
    "X_train, X_test, y_train, y_test = train_test_split(df_train, df_train_label, test_size=0.25, random_state=1)"
   ]
  },
  {
   "cell_type": "code",
   "execution_count": 168,
   "metadata": {},
   "outputs": [],
   "source": [
    "from tensorflow.keras import models, layers, optimizers\n",
    "\n",
    "\n",
    "model = models.Sequential()\n",
    "model.add(layers.Dense(100, activation='relu', input_shape=(60,))) #features ke hisaab se hoga\n",
    "model.add(layers.Dense(100, activation='relu'))\n",
    "model.add(layers.Dense(30, activation='relu'))\n",
    "model.add(layers.Dense(1, activation='sigmoid'))\n"
   ]
  },
  {
   "cell_type": "code",
   "execution_count": 169,
   "metadata": {},
   "outputs": [
    {
     "data": {
      "text/plain": [
       "61"
      ]
     },
     "execution_count": 169,
     "metadata": {},
     "output_type": "execute_result"
    }
   ],
   "source": [
    "len(data.columns)"
   ]
  },
  {
   "cell_type": "code",
   "execution_count": 192,
   "metadata": {},
   "outputs": [
    {
     "name": "stdout",
     "output_type": "stream",
     "text": [
      "WARNING:tensorflow:Falling back from v2 loop because of error: Failed to find data adapter that can handle input: <class 'pandas.core.frame.DataFrame'>, <class 'NoneType'>\n",
      "Train on 108 samples, validate on 36 samples\n",
      "108/108 [==============================] - 1s 5ms/sample - loss: 8.6616e-06 - acc: 1.0000 - val_loss: 1.3647 - val_acc: 0.8611\n"
     ]
    }
   ],
   "source": [
    "model.compile(optimizer='adam', loss='binary_crossentropy', metrics=['acc'])\n",
    "history = model.fit(X_train, y_train, epochs=1, batch_size=512 , validation_data=(X_test, y_test))"
   ]
  },
  {
   "cell_type": "code",
   "execution_count": 193,
   "metadata": {},
   "outputs": [
    {
     "name": "stdout",
     "output_type": "stream",
     "text": [
      "WARNING:tensorflow:Falling back from v2 loop because of error: Failed to find data adapter that can handle input: <class 'pandas.core.frame.DataFrame'>, <class 'NoneType'>\n",
      "36/36 [==============================] - 0s 195us/sample - loss: 1.3647 - acc: 0.8611\n"
     ]
    }
   ],
   "source": [
    "evaluation = model.evaluate(X_test,  y_test, verbose=1)     "
   ]
  },
  {
   "cell_type": "code",
   "execution_count": 153,
   "metadata": {},
   "outputs": [
    {
     "name": "stdout",
     "output_type": "stream",
     "text": [
      "WARNING:tensorflow:Falling back from v2 loop because of error: Failed to find data adapter that can handle input: <class 'pandas.core.frame.DataFrame'>, <class 'NoneType'>\n",
      "Predicted value : [[-0.          0.05771102  0.13567345  0.02344636  0.18065214 -0.\n",
      "  -0.          0.15397766 -0.          0.07671215 -0.          0.1453777\n",
      "   0.17630604 -0.         -0.         -0.          0.03545048  0.02910278\n",
      "  -0.          0.15949869 -0.         -0.          0.1480666  -0.\n",
      "   0.12217331  0.18231417  0.06756852 -0.          0.03036587 -0.\n",
      "   0.03070444  0.11200468 -0.         -0.          0.055146    0.10995016\n",
      "   0.16666907 -0.         -0.          0.12397004 -0.         -0.\n",
      "   0.03722206  0.02773892 -0.         -0.         -0.         -0.\n",
      "   0.09836612  0.0968271 ]\n",
      " [-0.          0.0342083   0.08042066  0.01389786  0.10708185 -0.\n",
      "  -0.          0.09127051 -0.          0.04547125 -0.          0.08617286\n",
      "   0.10450568 -0.         -0.         -0.          0.02101333  0.01725072\n",
      "  -0.          0.0945431  -0.         -0.          0.08776671 -0.\n",
      "   0.07241842  0.10806701  0.04005135 -0.          0.01799942 -0.\n",
      "   0.01820011  0.06639095 -0.         -0.          0.03268788  0.06517313\n",
      "   0.09879336 -0.         -0.          0.07348344 -0.         -0.\n",
      "   0.02206344  0.01644229 -0.         -0.         -0.         -0.\n",
      "   0.05830668  0.05739442]]\n"
     ]
    }
   ],
   "source": [
    "print(\"Predicted value :\",model.predict(X_test[1:3]))"
   ]
  },
  {
   "cell_type": "code",
   "execution_count": 176,
   "metadata": {},
   "outputs": [
    {
     "name": "stdout",
     "output_type": "stream",
     "text": [
      "WARNING:tensorflow:Falling back from v2 loop because of error: Failed to find data adapter that can handle input: <class 'pandas.core.frame.DataFrame'>, <class 'NoneType'>\n",
      "36/36 - 0s - loss: 0.7877 - acc: 0.8333\n"
     ]
    }
   ],
   "source": []
  },
  {
   "cell_type": "code",
   "execution_count": null,
   "metadata": {},
   "outputs": [],
   "source": []
  }
 ],
 "metadata": {
  "kernelspec": {
   "display_name": "Python 3",
   "language": "python",
   "name": "python3"
  },
  "language_info": {
   "codemirror_mode": {
    "name": "ipython",
    "version": 3
   },
   "file_extension": ".py",
   "mimetype": "text/x-python",
   "name": "python",
   "nbconvert_exporter": "python",
   "pygments_lexer": "ipython3",
   "version": "3.7.4"
  }
 },
 "nbformat": 4,
 "nbformat_minor": 2
}
